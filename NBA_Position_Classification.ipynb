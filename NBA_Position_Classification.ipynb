{
 "cells": [
  {
   "cell_type": "markdown",
   "id": "374cf065",
   "metadata": {},
   "source": [
    "# NBA Player Position Classification\n",
    "\n",
    "**Objective:** Classify NBA players into 5 positions based on their statistical performance\n",
    "\n",
    "## Project Overview\n",
    "This project uses machine learning to classify NBA players into their positions (PG, SG, SF, PF, C) based on performance statistics from the 2023 regular season."
   ]
  },
  {
   "cell_type": "markdown",
   "id": "b726ed2f",
   "metadata": {},
   "source": [
    "## Data Import and Setup"
   ]
  },
  {
   "cell_type": "code",
   "execution_count": null,
   "id": "eb71de24",
   "metadata": {},
   "outputs": [],
   "source": [
    "import pandas as pd\n",
    "import numpy as np\n",
    "import matplotlib.pyplot as plt\n",
    "from sklearn.model_selection import train_test_split, cross_val_score\n",
    "from sklearn.naive_bayes import GaussianNB\n",
    "from sklearn.metrics import classification_report, confusion_matrix\n",
    "import seaborn as sns\n",
    "\n",
    "# Load the dataset\n",
    "nba = pd.read_csv('nba_stats.csv')\n",
    "print(f\"Dataset shape: {nba.shape}\")\n",
    "print(f\"\\nColumns: {nba.columns.tolist()}\")"
   ]
  },
  {
   "cell_type": "markdown",
   "id": "37697353",
   "metadata": {},
   "source": [
    "## Exploratory Data Analysis"
   ]
  },
  {
   "cell_type": "code",
   "execution_count": null,
   "id": "6e1d3eb7",
   "metadata": {},
   "outputs": [],
   "source": [
    "# Display basic information about the dataset\n",
    "print(\"Dataset Info:\")\n",
    "print(nba.info())\n",
    "\n",
    "print(\"\\nPosition distribution:\")\n",
    "print(nba['Pos'].value_counts())\n",
    "\n",
    "# Visualize position distribution\n",
    "plt.figure(figsize=(10, 6))\n",
    "nba['Pos'].value_counts().plot(kind='bar')\n",
    "plt.title('Distribution of NBA Player Positions')\n",
    "plt.xlabel('Position')\n",
    "plt.ylabel('Number of Players')\n",
    "plt.xticks(rotation=0)\n",
    "plt.show()"
   ]
  },
  {
   "cell_type": "markdown",
   "id": "abe84ddf",
   "metadata": {},
   "source": [
    "## Feature Selection and Data Preparation"
   ]
  },
  {
   "cell_type": "code",
   "execution_count": null,
   "id": "362bef1a",
   "metadata": {},
   "outputs": [],
   "source": [
    "# Define features and target variable\n",
    "classColumn = 'Pos'\n",
    "attributes = ['MP','FGA', '3PA', '2PA', 'FTA', 'ORB', 'DRB', 'AST', 'STL', 'BLK', 'TOV', 'PTS']\n",
    "\n",
    "print(f\"Selected features: {attributes}\")\n",
    "print(f\"Target variable: {classColumn}\")\n",
    "\n",
    "# Prepare features and target\n",
    "nbaAttributes = nba[attributes]\n",
    "nbaClass = nba[classColumn]\n",
    "\n",
    "# Display feature statistics\n",
    "print(\"\\nFeature Statistics:\")\n",
    "print(nbaAttributes.describe())"
   ]
  },
  {
   "cell_type": "markdown",
   "id": "50a7b231",
   "metadata": {},
   "source": [
    "## Model Training and Evaluation"
   ]
  },
  {
   "cell_type": "code",
   "execution_count": null,
   "id": "b2813d99",
   "metadata": {},
   "outputs": [],
   "source": [
    "# Split the data: 80% training, 20% validation\n",
    "train_feature, test_feature, train_class, test_class = train_test_split(\n",
    "    nbaAttributes, nbaClass, \n",
    "    stratify=nbaClass, \n",
    "    test_size=0.20, \n",
    "    random_state=0\n",
    ")\n",
    "\n",
    "print(f\"Training set size: {len(train_feature)}\")\n",
    "print(f\"Test set size: {len(test_feature)}\")\n",
    "\n",
    "# Train Naive Bayes classifier\n",
    "nb = GaussianNB().fit(train_feature, train_class)\n",
    "\n",
    "# Calculate accuracies\n",
    "train_accuracy = nb.score(train_feature, train_class)\n",
    "test_accuracy = nb.score(test_feature, test_class)\n",
    "\n",
    "print(f\"\\nTraining set accuracy: {train_accuracy:.3f}\")\n",
    "print(f\"Validation set accuracy: {test_accuracy:.3f}\")"
   ]
  },
  {
   "cell_type": "markdown",
   "id": "fb5daa46",
   "metadata": {},
   "source": [
    "## Model Performance Analysis"
   ]
  },
  {
   "cell_type": "code",
   "execution_count": null,
   "id": "006f2e4c",
   "metadata": {},
   "outputs": [],
   "source": [
    "# Generate predictions\n",
    "prediction = nb.predict(test_feature)\n",
    "\n",
    "# Confusion Matrix\n",
    "print(\"Confusion Matrix:\")\n",
    "cm = pd.crosstab(test_class, prediction, rownames=['True'], colnames=['Predicted'], margins=True)\n",
    "print(cm)\n",
    "\n",
    "# Visualize confusion matrix\n",
    "plt.figure(figsize=(8, 6))\n",
    "cm_numeric = confusion_matrix(test_class, prediction)\n",
    "positions = sorted(nba['Pos'].unique())\n",
    "sns.heatmap(cm_numeric, annot=True, fmt='d', cmap='Blues', \n",
    "            xticklabels=positions, yticklabels=positions)\n",
    "plt.title('Confusion Matrix - NBA Position Classification')\n",
    "plt.xlabel('Predicted Position')\n",
    "plt.ylabel('True Position')\n",
    "plt.show()\n",
    "\n",
    "# Classification Report\n",
    "print(\"\\nClassification Report:\")\n",
    "print(classification_report(test_class, prediction))"
   ]
  },
  {
   "cell_type": "markdown",
   "id": "6ee17417",
   "metadata": {},
   "source": [
    "## Cross-Validation Analysis"
   ]
  },
  {
   "cell_type": "code",
   "execution_count": null,
   "id": "906bf28a",
   "metadata": {},
   "outputs": [],
   "source": [
    "# 10-fold stratified cross-validation\n",
    "cv_scores = cross_val_score(nb, nbaAttributes, nbaClass, cv=10, scoring='accuracy')\n",
    "\n",
    "print(f\"10-Fold Cross-validation scores: {cv_scores}\")\n",
    "print(f\"Average CV accuracy: {cv_scores.mean():.3f} (+/- {cv_scores.std() * 2:.3f})\")\n",
    "\n",
    "# Visualize CV scores\n",
    "plt.figure(figsize=(10, 6))\n",
    "plt.plot(range(1, 11), cv_scores, 'bo-', linewidth=2, markersize=8)\n",
    "plt.axhline(y=cv_scores.mean(), color='r', linestyle='--', label=f'Mean: {cv_scores.mean():.3f}')\n",
    "plt.xlabel('Fold Number')\n",
    "plt.ylabel('Accuracy Score')\n",
    "plt.title('10-Fold Cross-Validation Results')\n",
    "plt.legend()\n",
    "plt.grid(True, alpha=0.3)\n",
    "plt.show()"
   ]
  },
  {
   "cell_type": "markdown",
   "id": "80e77bfb",
   "metadata": {},
   "source": [
    "## Test on Dummy Dataset"
   ]
  },
  {
   "cell_type": "code",
   "execution_count": null,
   "id": "def917de",
   "metadata": {},
   "outputs": [],
   "source": [
    "# Load and test on dummy test set\n",
    "dummy_test = pd.read_csv('dummy_test.csv')\n",
    "dummy_features = dummy_test[attributes]\n",
    "dummy_classes = dummy_test[classColumn]\n",
    "\n",
    "# Make predictions\n",
    "dummy_predictions = nb.predict(dummy_features)\n",
    "dummy_accuracy = nb.score(dummy_features, dummy_classes)\n",
    "\n",
    "print(f\"Dummy test set accuracy: {dummy_accuracy:.3f}\")\n",
    "print(\"\\nDummy test confusion matrix:\")\n",
    "dummy_cm = pd.crosstab(dummy_classes, dummy_predictions, \n",
    "                      rownames=['True'], colnames=['Predicted'], margins=True)\n",
    "print(dummy_cm)"
   ]
  },
  {
   "cell_type": "markdown",
   "id": "519ff4f8",
   "metadata": {},
   "source": [
    "## Key Findings and Insights\n",
    "\n",
    "### Model Performance:\n",
    "- The Gaussian Naive Bayes classifier shows good performance in distinguishing between NBA player positions\n",
    "- Cross-validation provides robust estimates of model performance\n",
    "- Different positions show distinct statistical patterns that the model can learn\n",
    "\n",
    "### Basketball Insights:\n",
    "- Guards (PG, SG) typically have higher assist and steal rates\n",
    "- Centers (C) and Power Forwards (PF) dominate in rebounding and blocks\n",
    "- Statistical profiles effectively capture positional roles in basketball\n",
    "\n",
    "### Technical Implementation:\n",
    "- Feature selection based on basketball domain knowledge\n",
    "- Proper train-test splitting with stratification\n",
    "- Comprehensive model evaluation with multiple metrics"
   ]
  }
 ],
 "metadata": {
  "language_info": {
   "name": "python"
  }
 },
 "nbformat": 4,
 "nbformat_minor": 5
}
